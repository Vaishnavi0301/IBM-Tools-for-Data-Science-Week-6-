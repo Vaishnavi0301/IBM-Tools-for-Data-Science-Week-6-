{
 "cells": [
  {
   "cell_type": "markdown",
   "id": "ebffd829-b2c8-444d-9184-c57c9c812ee0",
   "metadata": {},
   "source": [
    "###                                              __Data Science Tools and Ecosystem__"
   ]
  },
  {
   "cell_type": "markdown",
   "id": "88d49b90-056d-4389-b7b1-be9956752b86",
   "metadata": {},
   "source": [
    "In this Notebook, Data Science Tools and Ecosystems are summarized."
   ]
  },
  {
   "cell_type": "markdown",
   "id": "b1b10292-c398-4d21-8409-8ce867af0500",
   "metadata": {},
   "source": [
    "__Some of the popular languages that Data Scientists use are:__\n",
    "1. Python\n",
    "2. R\n",
    "3. SQL\n",
    "4. C++\n",
    "5. Java etc..\n"
   ]
  },
  {
   "cell_type": "markdown",
   "id": "b98dbb6b-9e39-416a-bd34-3449d0375a8d",
   "metadata": {},
   "source": [
    "__Some of the commonly used libraries used by Data Scientists include:__\n",
    "1. TensorFlow.\n",
    "2. NumPy.\n",
    "3. SciPy.\n",
    "4. Pandas.\n",
    "5. Matplotlib.\n",
    "6. Keras.\n",
    "7. Scikit-Learn.\n",
    "8. PyTorch. etc..;"
   ]
  },
  {
   "cell_type": "markdown",
   "id": "ae7f326e-daa1-4290-b9a3-407515f37d63",
   "metadata": {},
   "source": [
    "|Data Science Tools|\n",
    "|---|\n",
    "|SAS| \n",
    "|Apache Hadoop|\n",
    "|TensorFlow|"
   ]
  },
  {
   "cell_type": "markdown",
   "id": "500a522d-0e80-464b-ac50-71dc118eb933",
   "metadata": {},
   "source": [
    "__Below are a few examples of evaluating arithmetic expressions in Python.__"
   ]
  },
  {
   "cell_type": "code",
   "execution_count": 1,
   "id": "643236e5-93b4-4a5b-a9bc-21184e62cdc0",
   "metadata": {},
   "outputs": [
    {
     "data": {
      "text/plain": [
       "17"
      ]
     },
     "execution_count": 1,
     "metadata": {},
     "output_type": "execute_result"
    }
   ],
   "source": [
    "#this is a common arithmetic example to multiply and then add integers.\n",
    "(3*4)+5"
   ]
  },
  {
   "cell_type": "code",
   "execution_count": 2,
   "id": "39639b46-e599-49ec-a888-3b5f24250e2f",
   "metadata": {},
   "outputs": [
    {
     "data": {
      "text/plain": [
       "3.3333333333333335"
      ]
     },
     "execution_count": 2,
     "metadata": {},
     "output_type": "execute_result"
    }
   ],
   "source": [
    "#This will convert 200 minutes to hours by diving by 60\n",
    "200/60"
   ]
  },
  {
   "cell_type": "markdown",
   "id": "c1a60bd9-16c2-443a-bb7f-5837af735824",
   "metadata": {},
   "source": [
    "__Objective__\n",
    "* List popular languages for Data Science\n",
    "* List popular libraries for Data Science\n",
    "* List of Well known Data Science Tools"
   ]
  },
  {
   "cell_type": "markdown",
   "id": "14af61a1-95b6-46df-84bd-3283fb53d53e",
   "metadata": {},
   "source": [
    "__Author__\n",
    "\n",
    "Vaishnavi"
   ]
  }
 ],
 "metadata": {
  "kernelspec": {
   "display_name": "Python 3 (ipykernel)",
   "language": "python",
   "name": "python3"
  },
  "language_info": {
   "codemirror_mode": {
    "name": "ipython",
    "version": 3
   },
   "file_extension": ".py",
   "mimetype": "text/x-python",
   "name": "python",
   "nbconvert_exporter": "python",
   "pygments_lexer": "ipython3",
   "version": "3.12.1"
  }
 },
 "nbformat": 4,
 "nbformat_minor": 5
}
